{
  "nbformat": 4,
  "nbformat_minor": 0,
  "metadata": {
    "colab": {
      "name": "lista1",
      "provenance": [],
      "collapsed_sections": [],
      "authorship_tag": "ABX9TyOkUKfNDy1pQDBlvF/TLrzd",
      "include_colab_link": true
    },
    "kernelspec": {
      "name": "python3",
      "display_name": "Python 3"
    }
  },
  "cells": [
    {
      "cell_type": "markdown",
      "metadata": {
        "id": "view-in-github",
        "colab_type": "text"
      },
      "source": [
        "<a href=\"https://colab.research.google.com/github/lari06/Minicurso-de-git-e-Github/blob/master/lista1.ipynb\" target=\"_parent\"><img src=\"https://colab.research.google.com/assets/colab-badge.svg\" alt=\"Open In Colab\"/></a>"
      ]
    },
    {
      "cell_type": "markdown",
      "metadata": {
        "id": "Majojl1qKU-o",
        "colab_type": "text"
      },
      "source": [
        "questão 1"
      ]
    },
    {
      "cell_type": "code",
      "metadata": {
        "id": "V5Jm5idrKPAj",
        "colab_type": "code",
        "colab": {
          "base_uri": "https://localhost:8080/",
          "height": 34
        },
        "outputId": "09215cce-f609-42fd-ba28-377c3eb3c3c9"
      },
      "source": [
        "print ( \"Estou começando a programar em Python!\")"
      ],
      "execution_count": null,
      "outputs": [
        {
          "output_type": "stream",
          "text": [
            "Estou começando a programarem Python!\n"
          ],
          "name": "stdout"
        }
      ]
    },
    {
      "cell_type": "markdown",
      "metadata": {
        "id": "8hy5bRuZKadP",
        "colab_type": "text"
      },
      "source": [
        "questão 2"
      ]
    },
    {
      "cell_type": "code",
      "metadata": {
        "id": "ae5jEsjiKZkK",
        "colab_type": "code",
        "colab": {
          "base_uri": "https://localhost:8080/",
          "height": 68
        },
        "outputId": "efba47c3-38d3-4218-e12a-1788398ed180"
      },
      "source": [
        "numero1 = float(input(\"digite um numero\"))\n",
        "numero2 = float(input(\"digite outro numero\"))\n",
        "soma = (numero1 + numero2)\n",
        "print (soma)\n"
      ],
      "execution_count": null,
      "outputs": [
        {
          "output_type": "stream",
          "text": [
            "digite um numero5\n",
            "digite outro numero5\n",
            "10.0\n"
          ],
          "name": "stdout"
        }
      ]
    },
    {
      "cell_type": "markdown",
      "metadata": {
        "id": "rSV5yHotNoRU",
        "colab_type": "text"
      },
      "source": [
        "questão 3"
      ]
    },
    {
      "cell_type": "code",
      "metadata": {
        "id": "VPYUskU4NpxA",
        "colab_type": "code",
        "colab": {
          "base_uri": "https://localhost:8080/",
          "height": 68
        },
        "outputId": "bafb6e8b-719f-4e51-fc09-fdea0fd3a23f"
      },
      "source": [
        "numero1 = float(input(\"digite um numero\"))\n",
        "numero2 = float(input(\"digite outro numero\"))\n",
        "soma = (numero1 * numero2)\n",
        "print (soma)"
      ],
      "execution_count": null,
      "outputs": [
        {
          "output_type": "stream",
          "text": [
            "digite um numero2\n",
            "digite outro numero2\n",
            "4.0\n"
          ],
          "name": "stdout"
        }
      ]
    },
    {
      "cell_type": "markdown",
      "metadata": {
        "id": "UFZ6zMkmN58r",
        "colab_type": "text"
      },
      "source": [
        "questão 4\n"
      ]
    },
    {
      "cell_type": "code",
      "metadata": {
        "id": "IshQqxNrN9I3",
        "colab_type": "code",
        "colab": {
          "base_uri": "https://localhost:8080/",
          "height": 68
        },
        "outputId": "d7f25691-149c-42a4-fc87-f5134068b8aa"
      },
      "source": [
        "numero1 = float(input(\"digite um numero\"))\n",
        "numero2 = float(input(\"digite outro numero\"))\n",
        "soma = (numero1 / numero2)\n",
        "print (soma)"
      ],
      "execution_count": null,
      "outputs": [
        {
          "output_type": "stream",
          "text": [
            "digite um numero2\n",
            "digite outro numero2\n",
            "1.0\n"
          ],
          "name": "stdout"
        }
      ]
    },
    {
      "cell_type": "markdown",
      "metadata": {
        "id": "b4Fcx9ccOIHc",
        "colab_type": "text"
      },
      "source": [
        "questão 5"
      ]
    },
    {
      "cell_type": "code",
      "metadata": {
        "id": "_9IWsL7NOLGZ",
        "colab_type": "code",
        "colab": {
          "base_uri": "https://localhost:8080/",
          "height": 51
        },
        "outputId": "8a332136-0aa3-4630-ee61-66602d67fc43"
      },
      "source": [
        "filme = input('qual fime voce mais gosta? ')\n",
        "print(\"o filme que voce mais gosta é: \" + filme)"
      ],
      "execution_count": null,
      "outputs": [
        {
          "output_type": "stream",
          "text": [
            "qual fime voce mais gosta? jogos vorazes\n",
            "o filme que voce mais gosta é: jogos vorazes\n"
          ],
          "name": "stdout"
        }
      ]
    },
    {
      "cell_type": "markdown",
      "metadata": {
        "id": "JdTRmTKRlJdL",
        "colab_type": "text"
      },
      "source": [
        "questão 6\n"
      ]
    },
    {
      "cell_type": "code",
      "metadata": {
        "id": "1TX8i_mITH8G",
        "colab_type": "code",
        "colab": {
          "base_uri": "https://localhost:8080/",
          "height": 51
        },
        "outputId": "3609d778-c85e-4bfa-be20-6eb5176a8c2c"
      },
      "source": [
        "valor1 = float(input('digite o valor em metros:'))\n",
        "soma = (valor1 *1000)\n",
        "print(soma)"
      ],
      "execution_count": null,
      "outputs": [
        {
          "output_type": "stream",
          "text": [
            "digite o valor em metros:10\n",
            "10000.0\n"
          ],
          "name": "stdout"
        }
      ]
    },
    {
      "cell_type": "markdown",
      "metadata": {
        "id": "QVTwlhxhUAef",
        "colab_type": "text"
      },
      "source": [
        "questão 7\n"
      ]
    },
    {
      "cell_type": "code",
      "metadata": {
        "id": "HABvm_1qQFfI",
        "colab_type": "code",
        "colab": {
          "base_uri": "https://localhost:8080/",
          "height": 51
        },
        "outputId": "45f47a5b-49ba-4827-a49f-9632245af482"
      },
      "source": [
        "nome = input('qual seu nome ')\n",
        "nome1 = nome.lower()\n",
        "print (nome1.startswith('ana'))"
      ],
      "execution_count": null,
      "outputs": [
        {
          "output_type": "stream",
          "text": [
            "qual seu nome ana\n",
            "True\n"
          ],
          "name": "stdout"
        }
      ]
    }
  ]
}